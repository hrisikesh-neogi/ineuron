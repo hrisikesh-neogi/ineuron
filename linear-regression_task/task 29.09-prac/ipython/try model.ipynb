{
 "cells": [
  {
   "cell_type": "code",
   "execution_count": 1,
   "id": "055f6b75",
   "metadata": {},
   "outputs": [],
   "source": [
    "data = [308.6,1551,42.8,0,0,0,0,0,0,0]"
   ]
  },
  {
   "cell_type": "code",
   "execution_count": 2,
   "id": "166f02ed",
   "metadata": {},
   "outputs": [],
   "source": [
    "import numpy as np\n",
    "import pickle"
   ]
  },
  {
   "cell_type": "code",
   "execution_count": 16,
   "id": "2d64a02d",
   "metadata": {},
   "outputs": [],
   "source": [
    "import training_model"
   ]
  },
  {
   "cell_type": "markdown",
   "id": "7fcd6cdb",
   "metadata": {},
   "source": [
    "\n",
    "\n",
    "def execution_of_model(val):\n",
    "    train = training_model.train_model()\n",
    "    train.features()\n",
    "    train.training()    \n",
    "    model = pickle.load(open('air_temp.pickle', 'rb'))\n",
    "    value = [np.array(val)]\n",
    "    predict = model.predict(value) \n",
    "    print( f'the air temperature is {predict}')\n",
    "        "
   ]
  },
  {
   "cell_type": "code",
   "execution_count": 17,
   "id": "7f0a12f5",
   "metadata": {},
   "outputs": [],
   "source": [
    "predict = training_model.execution_of_model(data)"
   ]
  },
  {
   "cell_type": "code",
   "execution_count": 18,
   "id": "5ad32fe6",
   "metadata": {},
   "outputs": [
    {
     "data": {
      "text/plain": [
       "'the air temperature is 298'"
      ]
     },
     "execution_count": 18,
     "metadata": {},
     "output_type": "execute_result"
    }
   ],
   "source": [
    "predict"
   ]
  },
  {
   "cell_type": "code",
   "execution_count": 7,
   "id": "4302d70b",
   "metadata": {},
   "outputs": [
    {
     "name": "stdout",
     "output_type": "stream",
     "text": [
      "Collecting cassandra-driver\n",
      "  Using cached cassandra_driver-3.25.0-cp39-cp39-win_amd64.whl\n",
      "Requirement already satisfied: six>=1.9 in c:\\users\\neogi\\anaconda3\\envs\\ml_deploy_air_pressure\\lib\\site-packages (from cassandra-driver) (1.16.0)\n",
      "Collecting geomet<0.3,>=0.1\n",
      "  Using cached geomet-0.2.1.post1-py3-none-any.whl (18 kB)\n",
      "Requirement already satisfied: click in c:\\users\\neogi\\anaconda3\\envs\\ml_deploy_air_pressure\\lib\\site-packages (from geomet<0.3,>=0.1->cassandra-driver) (8.0.1)\n",
      "Requirement already satisfied: colorama in c:\\users\\neogi\\anaconda3\\envs\\ml_deploy_air_pressure\\lib\\site-packages (from click->geomet<0.3,>=0.1->cassandra-driver) (0.4.4)\n",
      "Installing collected packages: geomet, cassandra-driver\n",
      "Successfully installed cassandra-driver-3.25.0 geomet-0.2.1.post1\n"
     ]
    }
   ],
   "source": [
    "!pip install cassandra-driver"
   ]
  },
  {
   "cell_type": "code",
   "execution_count": 1,
   "id": "8ad0f0b2",
   "metadata": {},
   "outputs": [],
   "source": [
    "import os\n",
    "os.chdir('E:\\\\ML\\\\LINEAR REGRSSION PRACTICE\\\\task\\\\task 29.09')\n",
    "import db\n",
    "import pandas as pd"
   ]
  },
  {
   "cell_type": "code",
   "execution_count": 2,
   "id": "c122b29a",
   "metadata": {},
   "outputs": [],
   "source": [
    "data = [298.1,308.6,1551,42.8,0,0,0,0,0,0,0]\n",
    "columns = \"Air_temperature int PRIMARY KEY, Process_temperature int, Rotational_speed int, Torque int, Tool_wear int, Machine_failure int, TWF int, HDF int, PWF int, OSF int, RNF int\"   \n",
    "database = db.cass_operation(data, 'rishiml', columns)"
   ]
  },
  {
   "cell_type": "code",
   "execution_count": 3,
   "id": "a930f96b",
   "metadata": {},
   "outputs": [
    {
     "ename": "FileNotFoundError",
     "evalue": "[Errno 2] No such file or directory: ''",
     "output_type": "error",
     "traceback": [
      "\u001b[1;31m---------------------------------------------------------------------------\u001b[0m",
      "\u001b[1;31mFileNotFoundError\u001b[0m                         Traceback (most recent call last)",
      "\u001b[1;32m~\\AppData\\Local\\Temp/ipykernel_16492/79687806.py\u001b[0m in \u001b[0;36m<module>\u001b[1;34m\u001b[0m\n\u001b[1;32m----> 1\u001b[1;33m \u001b[0mdatabase\u001b[0m\u001b[1;33m.\u001b[0m\u001b[0mcreate_table\u001b[0m\u001b[1;33m(\u001b[0m\u001b[1;33m)\u001b[0m\u001b[1;33m\u001b[0m\u001b[1;33m\u001b[0m\u001b[0m\n\u001b[0m",
      "\u001b[1;32mE:\\ML\\LINEAR REGRSSION PRACTICE\\task\\task 29.09\\db.py\u001b[0m in \u001b[0;36mcreate_table\u001b[1;34m(self)\u001b[0m\n\u001b[0;32m     65\u001b[0m     \u001b[1;32mdef\u001b[0m \u001b[0mcreate_table\u001b[0m \u001b[1;33m(\u001b[0m\u001b[0mself\u001b[0m\u001b[1;33m)\u001b[0m\u001b[1;33m:\u001b[0m \u001b[1;31m#table creation and db conenction in cassandra\u001b[0m\u001b[1;33m\u001b[0m\u001b[1;33m\u001b[0m\u001b[0m\n\u001b[0;32m     66\u001b[0m \u001b[1;33m\u001b[0m\u001b[0m\n\u001b[1;32m---> 67\u001b[1;33m         \u001b[0mconenction\u001b[0m\u001b[1;33m(\u001b[0m\u001b[0mzip_loc\u001b[0m\u001b[1;33m,\u001b[0m \u001b[0mclient_id\u001b[0m\u001b[1;33m,\u001b[0m \u001b[0mclient_secret\u001b[0m\u001b[1;33m,\u001b[0m \u001b[0mkeyspace\u001b[0m\u001b[1;33m)\u001b[0m \u001b[1;31m## establishing connection to cassandra database\u001b[0m\u001b[1;33m\u001b[0m\u001b[1;33m\u001b[0m\u001b[0m\n\u001b[0m\u001b[0;32m     68\u001b[0m \u001b[1;33m\u001b[0m\u001b[0m\n\u001b[0;32m     69\u001b[0m \u001b[1;33m\u001b[0m\u001b[0m\n",
      "\u001b[1;32mE:\\ML\\LINEAR REGRSSION PRACTICE\\task\\task 29.09\\db.py\u001b[0m in \u001b[0;36mconenction\u001b[1;34m(zip_loc, client_id, client_secret, keyspace)\u001b[0m\n\u001b[0;32m     35\u001b[0m     auth_provider = PlainTextAuthProvider(str(client_id),\n\u001b[0;32m     36\u001b[0m                                             str(client_secret))\n\u001b[1;32m---> 37\u001b[1;33m     \u001b[0mcluster\u001b[0m \u001b[1;33m=\u001b[0m \u001b[0mCluster\u001b[0m\u001b[1;33m(\u001b[0m\u001b[0mcloud\u001b[0m\u001b[1;33m=\u001b[0m\u001b[0mcloud_config\u001b[0m\u001b[1;33m,\u001b[0m \u001b[0mauth_provider\u001b[0m\u001b[1;33m=\u001b[0m\u001b[0mauth_provider\u001b[0m\u001b[1;33m)\u001b[0m\u001b[1;33m\u001b[0m\u001b[1;33m\u001b[0m\u001b[0m\n\u001b[0m\u001b[0;32m     38\u001b[0m     \u001b[1;32mglobal\u001b[0m \u001b[0msession\u001b[0m\u001b[1;33m\u001b[0m\u001b[1;33m\u001b[0m\u001b[0m\n\u001b[0;32m     39\u001b[0m     \u001b[0msession\u001b[0m \u001b[1;33m=\u001b[0m \u001b[0mcluster\u001b[0m\u001b[1;33m.\u001b[0m\u001b[0mconnect\u001b[0m\u001b[1;33m(\u001b[0m\u001b[0mstr\u001b[0m\u001b[1;33m(\u001b[0m\u001b[0mkeyspace\u001b[0m\u001b[1;33m)\u001b[0m\u001b[1;33m)\u001b[0m\u001b[1;33m\u001b[0m\u001b[1;33m\u001b[0m\u001b[0m\n",
      "\u001b[1;32m~\\anaconda3\\envs\\ml_Deploy_air_pressure\\lib\\site-packages\\cassandra\\cluster.py\u001b[0m in \u001b[0;36m__init__\u001b[1;34m(self, contact_points, port, compression, auth_provider, load_balancing_policy, reconnection_policy, default_retry_policy, conviction_policy_factory, metrics_enabled, connection_class, ssl_options, sockopts, cql_version, protocol_version, executor_threads, max_schema_agreement_wait, control_connection_timeout, idle_heartbeat_interval, schema_event_refresh_window, topology_event_refresh_window, connect_timeout, schema_metadata_enabled, token_metadata_enabled, address_translator, status_event_refresh_window, prepare_on_all_hosts, reprepare_on_up, execution_profiles, allow_beta_protocol_version, timestamp_generator, idle_heartbeat_timeout, no_compact, ssl_context, endpoint_factory, application_name, application_version, monitor_reporting_enabled, monitor_reporting_interval, client_id, cloud)\u001b[0m\n\u001b[0;32m   1123\u001b[0m             \u001b[0muses_twisted\u001b[0m \u001b[1;33m=\u001b[0m \u001b[0mTwistedConnection\u001b[0m \u001b[1;32mand\u001b[0m \u001b[0missubclass\u001b[0m\u001b[1;33m(\u001b[0m\u001b[0mself\u001b[0m\u001b[1;33m.\u001b[0m\u001b[0mconnection_class\u001b[0m\u001b[1;33m,\u001b[0m \u001b[0mTwistedConnection\u001b[0m\u001b[1;33m)\u001b[0m\u001b[1;33m\u001b[0m\u001b[1;33m\u001b[0m\u001b[0m\n\u001b[0;32m   1124\u001b[0m             \u001b[0muses_eventlet\u001b[0m \u001b[1;33m=\u001b[0m \u001b[0mEventletConnection\u001b[0m \u001b[1;32mand\u001b[0m \u001b[0missubclass\u001b[0m\u001b[1;33m(\u001b[0m\u001b[0mself\u001b[0m\u001b[1;33m.\u001b[0m\u001b[0mconnection_class\u001b[0m\u001b[1;33m,\u001b[0m \u001b[0mEventletConnection\u001b[0m\u001b[1;33m)\u001b[0m\u001b[1;33m\u001b[0m\u001b[1;33m\u001b[0m\u001b[0m\n\u001b[1;32m-> 1125\u001b[1;33m             \u001b[0mcloud_config\u001b[0m \u001b[1;33m=\u001b[0m \u001b[0mdscloud\u001b[0m\u001b[1;33m.\u001b[0m\u001b[0mget_cloud_config\u001b[0m\u001b[1;33m(\u001b[0m\u001b[0mcloud\u001b[0m\u001b[1;33m,\u001b[0m \u001b[0mcreate_pyopenssl_context\u001b[0m\u001b[1;33m=\u001b[0m\u001b[0muses_twisted\u001b[0m \u001b[1;32mor\u001b[0m \u001b[0muses_eventlet\u001b[0m\u001b[1;33m)\u001b[0m\u001b[1;33m\u001b[0m\u001b[1;33m\u001b[0m\u001b[0m\n\u001b[0m\u001b[0;32m   1126\u001b[0m \u001b[1;33m\u001b[0m\u001b[0m\n\u001b[0;32m   1127\u001b[0m             \u001b[0mssl_context\u001b[0m \u001b[1;33m=\u001b[0m \u001b[0mcloud_config\u001b[0m\u001b[1;33m.\u001b[0m\u001b[0mssl_context\u001b[0m\u001b[1;33m\u001b[0m\u001b[1;33m\u001b[0m\u001b[0m\n",
      "\u001b[1;32m~\\anaconda3\\envs\\ml_Deploy_air_pressure\\lib\\site-packages\\cassandra\\datastax\\cloud\\__init__.py\u001b[0m in \u001b[0;36mget_cloud_config\u001b[1;34m(cloud_config, create_pyopenssl_context)\u001b[0m\n\u001b[0;32m     86\u001b[0m \u001b[1;33m\u001b[0m\u001b[0m\n\u001b[0;32m     87\u001b[0m     \u001b[1;32mtry\u001b[0m\u001b[1;33m:\u001b[0m\u001b[1;33m\u001b[0m\u001b[1;33m\u001b[0m\u001b[0m\n\u001b[1;32m---> 88\u001b[1;33m         \u001b[0mconfig\u001b[0m \u001b[1;33m=\u001b[0m \u001b[0mread_cloud_config_from_zip\u001b[0m\u001b[1;33m(\u001b[0m\u001b[0mcloud_config\u001b[0m\u001b[1;33m,\u001b[0m \u001b[0mcreate_pyopenssl_context\u001b[0m\u001b[1;33m)\u001b[0m\u001b[1;33m\u001b[0m\u001b[1;33m\u001b[0m\u001b[0m\n\u001b[0m\u001b[0;32m     89\u001b[0m     \u001b[1;32mexcept\u001b[0m \u001b[0mBadZipFile\u001b[0m\u001b[1;33m:\u001b[0m\u001b[1;33m\u001b[0m\u001b[1;33m\u001b[0m\u001b[0m\n\u001b[0;32m     90\u001b[0m         \u001b[1;32mraise\u001b[0m \u001b[0mValueError\u001b[0m\u001b[1;33m(\u001b[0m\u001b[1;34m\"Unable to open the zip file for the cloud config. Check your secure connect bundle.\"\u001b[0m\u001b[1;33m)\u001b[0m\u001b[1;33m\u001b[0m\u001b[1;33m\u001b[0m\u001b[0m\n",
      "\u001b[1;32m~\\anaconda3\\envs\\ml_Deploy_air_pressure\\lib\\site-packages\\cassandra\\datastax\\cloud\\__init__.py\u001b[0m in \u001b[0;36mread_cloud_config_from_zip\u001b[1;34m(cloud_config, create_pyopenssl_context)\u001b[0m\n\u001b[0;32m     99\u001b[0m     \u001b[0msecure_bundle\u001b[0m \u001b[1;33m=\u001b[0m \u001b[0mcloud_config\u001b[0m\u001b[1;33m[\u001b[0m\u001b[1;34m'secure_connect_bundle'\u001b[0m\u001b[1;33m]\u001b[0m\u001b[1;33m\u001b[0m\u001b[1;33m\u001b[0m\u001b[0m\n\u001b[0;32m    100\u001b[0m     \u001b[0muse_default_tempdir\u001b[0m \u001b[1;33m=\u001b[0m \u001b[0mcloud_config\u001b[0m\u001b[1;33m.\u001b[0m\u001b[0mget\u001b[0m\u001b[1;33m(\u001b[0m\u001b[1;34m'use_default_tempdir'\u001b[0m\u001b[1;33m,\u001b[0m \u001b[1;32mNone\u001b[0m\u001b[1;33m)\u001b[0m\u001b[1;33m\u001b[0m\u001b[1;33m\u001b[0m\u001b[0m\n\u001b[1;32m--> 101\u001b[1;33m     \u001b[1;32mwith\u001b[0m \u001b[0mZipFile\u001b[0m\u001b[1;33m(\u001b[0m\u001b[0msecure_bundle\u001b[0m\u001b[1;33m)\u001b[0m \u001b[1;32mas\u001b[0m \u001b[0mzipfile\u001b[0m\u001b[1;33m:\u001b[0m\u001b[1;33m\u001b[0m\u001b[1;33m\u001b[0m\u001b[0m\n\u001b[0m\u001b[0;32m    102\u001b[0m         \u001b[0mbase_dir\u001b[0m \u001b[1;33m=\u001b[0m \u001b[0mtempfile\u001b[0m\u001b[1;33m.\u001b[0m\u001b[0mgettempdir\u001b[0m\u001b[1;33m(\u001b[0m\u001b[1;33m)\u001b[0m \u001b[1;32mif\u001b[0m \u001b[0muse_default_tempdir\u001b[0m \u001b[1;32melse\u001b[0m \u001b[0mos\u001b[0m\u001b[1;33m.\u001b[0m\u001b[0mpath\u001b[0m\u001b[1;33m.\u001b[0m\u001b[0mdirname\u001b[0m\u001b[1;33m(\u001b[0m\u001b[0msecure_bundle\u001b[0m\u001b[1;33m)\u001b[0m\u001b[1;33m\u001b[0m\u001b[1;33m\u001b[0m\u001b[0m\n\u001b[0;32m    103\u001b[0m         \u001b[0mtmp_dir\u001b[0m \u001b[1;33m=\u001b[0m \u001b[0mtempfile\u001b[0m\u001b[1;33m.\u001b[0m\u001b[0mmkdtemp\u001b[0m\u001b[1;33m(\u001b[0m\u001b[0mdir\u001b[0m\u001b[1;33m=\u001b[0m\u001b[0mbase_dir\u001b[0m\u001b[1;33m)\u001b[0m\u001b[1;33m\u001b[0m\u001b[1;33m\u001b[0m\u001b[0m\n",
      "\u001b[1;32m~\\anaconda3\\envs\\ml_Deploy_air_pressure\\lib\\zipfile.py\u001b[0m in \u001b[0;36m__init__\u001b[1;34m(self, file, mode, compression, allowZip64, compresslevel, strict_timestamps)\u001b[0m\n\u001b[0;32m   1237\u001b[0m             \u001b[1;32mwhile\u001b[0m \u001b[1;32mTrue\u001b[0m\u001b[1;33m:\u001b[0m\u001b[1;33m\u001b[0m\u001b[1;33m\u001b[0m\u001b[0m\n\u001b[0;32m   1238\u001b[0m                 \u001b[1;32mtry\u001b[0m\u001b[1;33m:\u001b[0m\u001b[1;33m\u001b[0m\u001b[1;33m\u001b[0m\u001b[0m\n\u001b[1;32m-> 1239\u001b[1;33m                     \u001b[0mself\u001b[0m\u001b[1;33m.\u001b[0m\u001b[0mfp\u001b[0m \u001b[1;33m=\u001b[0m \u001b[0mio\u001b[0m\u001b[1;33m.\u001b[0m\u001b[0mopen\u001b[0m\u001b[1;33m(\u001b[0m\u001b[0mfile\u001b[0m\u001b[1;33m,\u001b[0m \u001b[0mfilemode\u001b[0m\u001b[1;33m)\u001b[0m\u001b[1;33m\u001b[0m\u001b[1;33m\u001b[0m\u001b[0m\n\u001b[0m\u001b[0;32m   1240\u001b[0m                 \u001b[1;32mexcept\u001b[0m \u001b[0mOSError\u001b[0m\u001b[1;33m:\u001b[0m\u001b[1;33m\u001b[0m\u001b[1;33m\u001b[0m\u001b[0m\n\u001b[0;32m   1241\u001b[0m                     \u001b[1;32mif\u001b[0m \u001b[0mfilemode\u001b[0m \u001b[1;32min\u001b[0m \u001b[0mmodeDict\u001b[0m\u001b[1;33m:\u001b[0m\u001b[1;33m\u001b[0m\u001b[1;33m\u001b[0m\u001b[0m\n",
      "\u001b[1;31mFileNotFoundError\u001b[0m: [Errno 2] No such file or directory: ''"
     ]
    }
   ],
   "source": [
    "database.create_table()"
   ]
  },
  {
   "cell_type": "code",
   "execution_count": null,
   "id": "3035ccc1",
   "metadata": {},
   "outputs": [],
   "source": []
  }
 ],
 "metadata": {
  "kernelspec": {
   "display_name": "Python 3 (ipykernel)",
   "language": "python",
   "name": "python3"
  },
  "language_info": {
   "codemirror_mode": {
    "name": "ipython",
    "version": 3
   },
   "file_extension": ".py",
   "mimetype": "text/x-python",
   "name": "python",
   "nbconvert_exporter": "python",
   "pygments_lexer": "ipython3",
   "version": "3.8.11"
  }
 },
 "nbformat": 4,
 "nbformat_minor": 5
}
