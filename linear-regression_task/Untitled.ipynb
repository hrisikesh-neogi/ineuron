{
 "cells": [
  {
   "cell_type": "code",
   "execution_count": 2,
   "id": "1f8b7b16",
   "metadata": {},
   "outputs": [],
   "source": [
    "import pandas as pd\n",
    "import matplotlib.pyplot as plt\n",
    "import pickle\n",
    "from pandas_profiling import ProfileReport\n",
    "import numpy as np"
   ]
  },
  {
   "cell_type": "code",
   "execution_count": 3,
   "id": "ca90239c",
   "metadata": {},
   "outputs": [],
   "source": [
    "df = pd.read_csv('ai4i2020.csv')"
   ]
  },
  {
   "cell_type": "code",
   "execution_count": 4,
   "id": "9093c7bb",
   "metadata": {},
   "outputs": [
    {
     "data": {
      "text/html": [
       "<div>\n",
       "<style scoped>\n",
       "    .dataframe tbody tr th:only-of-type {\n",
       "        vertical-align: middle;\n",
       "    }\n",
       "\n",
       "    .dataframe tbody tr th {\n",
       "        vertical-align: top;\n",
       "    }\n",
       "\n",
       "    .dataframe thead th {\n",
       "        text-align: right;\n",
       "    }\n",
       "</style>\n",
       "<table border=\"1\" class=\"dataframe\">\n",
       "  <thead>\n",
       "    <tr style=\"text-align: right;\">\n",
       "      <th></th>\n",
       "      <th>UDI</th>\n",
       "      <th>Product ID</th>\n",
       "      <th>Type</th>\n",
       "      <th>Air temperature [K]</th>\n",
       "      <th>Process temperature [K]</th>\n",
       "      <th>Rotational speed [rpm]</th>\n",
       "      <th>Torque [Nm]</th>\n",
       "      <th>Tool wear [min]</th>\n",
       "      <th>Machine failure</th>\n",
       "      <th>TWF</th>\n",
       "      <th>HDF</th>\n",
       "      <th>PWF</th>\n",
       "      <th>OSF</th>\n",
       "      <th>RNF</th>\n",
       "    </tr>\n",
       "  </thead>\n",
       "  <tbody>\n",
       "    <tr>\n",
       "      <th>0</th>\n",
       "      <td>1</td>\n",
       "      <td>M14860</td>\n",
       "      <td>M</td>\n",
       "      <td>298.1</td>\n",
       "      <td>308.6</td>\n",
       "      <td>1551</td>\n",
       "      <td>42.8</td>\n",
       "      <td>0</td>\n",
       "      <td>0</td>\n",
       "      <td>0</td>\n",
       "      <td>0</td>\n",
       "      <td>0</td>\n",
       "      <td>0</td>\n",
       "      <td>0</td>\n",
       "    </tr>\n",
       "    <tr>\n",
       "      <th>1</th>\n",
       "      <td>2</td>\n",
       "      <td>L47181</td>\n",
       "      <td>L</td>\n",
       "      <td>298.2</td>\n",
       "      <td>308.7</td>\n",
       "      <td>1408</td>\n",
       "      <td>46.3</td>\n",
       "      <td>3</td>\n",
       "      <td>0</td>\n",
       "      <td>0</td>\n",
       "      <td>0</td>\n",
       "      <td>0</td>\n",
       "      <td>0</td>\n",
       "      <td>0</td>\n",
       "    </tr>\n",
       "    <tr>\n",
       "      <th>2</th>\n",
       "      <td>3</td>\n",
       "      <td>L47182</td>\n",
       "      <td>L</td>\n",
       "      <td>298.1</td>\n",
       "      <td>308.5</td>\n",
       "      <td>1498</td>\n",
       "      <td>49.4</td>\n",
       "      <td>5</td>\n",
       "      <td>0</td>\n",
       "      <td>0</td>\n",
       "      <td>0</td>\n",
       "      <td>0</td>\n",
       "      <td>0</td>\n",
       "      <td>0</td>\n",
       "    </tr>\n",
       "    <tr>\n",
       "      <th>3</th>\n",
       "      <td>4</td>\n",
       "      <td>L47183</td>\n",
       "      <td>L</td>\n",
       "      <td>298.2</td>\n",
       "      <td>308.6</td>\n",
       "      <td>1433</td>\n",
       "      <td>39.5</td>\n",
       "      <td>7</td>\n",
       "      <td>0</td>\n",
       "      <td>0</td>\n",
       "      <td>0</td>\n",
       "      <td>0</td>\n",
       "      <td>0</td>\n",
       "      <td>0</td>\n",
       "    </tr>\n",
       "    <tr>\n",
       "      <th>4</th>\n",
       "      <td>5</td>\n",
       "      <td>L47184</td>\n",
       "      <td>L</td>\n",
       "      <td>298.2</td>\n",
       "      <td>308.7</td>\n",
       "      <td>1408</td>\n",
       "      <td>40.0</td>\n",
       "      <td>9</td>\n",
       "      <td>0</td>\n",
       "      <td>0</td>\n",
       "      <td>0</td>\n",
       "      <td>0</td>\n",
       "      <td>0</td>\n",
       "      <td>0</td>\n",
       "    </tr>\n",
       "    <tr>\n",
       "      <th>5</th>\n",
       "      <td>6</td>\n",
       "      <td>M14865</td>\n",
       "      <td>M</td>\n",
       "      <td>298.1</td>\n",
       "      <td>308.6</td>\n",
       "      <td>1425</td>\n",
       "      <td>41.9</td>\n",
       "      <td>11</td>\n",
       "      <td>0</td>\n",
       "      <td>0</td>\n",
       "      <td>0</td>\n",
       "      <td>0</td>\n",
       "      <td>0</td>\n",
       "      <td>0</td>\n",
       "    </tr>\n",
       "    <tr>\n",
       "      <th>6</th>\n",
       "      <td>7</td>\n",
       "      <td>L47186</td>\n",
       "      <td>L</td>\n",
       "      <td>298.1</td>\n",
       "      <td>308.6</td>\n",
       "      <td>1558</td>\n",
       "      <td>42.4</td>\n",
       "      <td>14</td>\n",
       "      <td>0</td>\n",
       "      <td>0</td>\n",
       "      <td>0</td>\n",
       "      <td>0</td>\n",
       "      <td>0</td>\n",
       "      <td>0</td>\n",
       "    </tr>\n",
       "    <tr>\n",
       "      <th>7</th>\n",
       "      <td>8</td>\n",
       "      <td>L47187</td>\n",
       "      <td>L</td>\n",
       "      <td>298.1</td>\n",
       "      <td>308.6</td>\n",
       "      <td>1527</td>\n",
       "      <td>40.2</td>\n",
       "      <td>16</td>\n",
       "      <td>0</td>\n",
       "      <td>0</td>\n",
       "      <td>0</td>\n",
       "      <td>0</td>\n",
       "      <td>0</td>\n",
       "      <td>0</td>\n",
       "    </tr>\n",
       "    <tr>\n",
       "      <th>8</th>\n",
       "      <td>9</td>\n",
       "      <td>M14868</td>\n",
       "      <td>M</td>\n",
       "      <td>298.3</td>\n",
       "      <td>308.7</td>\n",
       "      <td>1667</td>\n",
       "      <td>28.6</td>\n",
       "      <td>18</td>\n",
       "      <td>0</td>\n",
       "      <td>0</td>\n",
       "      <td>0</td>\n",
       "      <td>0</td>\n",
       "      <td>0</td>\n",
       "      <td>0</td>\n",
       "    </tr>\n",
       "    <tr>\n",
       "      <th>9</th>\n",
       "      <td>10</td>\n",
       "      <td>M14869</td>\n",
       "      <td>M</td>\n",
       "      <td>298.5</td>\n",
       "      <td>309.0</td>\n",
       "      <td>1741</td>\n",
       "      <td>28.0</td>\n",
       "      <td>21</td>\n",
       "      <td>0</td>\n",
       "      <td>0</td>\n",
       "      <td>0</td>\n",
       "      <td>0</td>\n",
       "      <td>0</td>\n",
       "      <td>0</td>\n",
       "    </tr>\n",
       "  </tbody>\n",
       "</table>\n",
       "</div>"
      ],
      "text/plain": [
       "   UDI Product ID Type  Air temperature [K]  Process temperature [K]  \\\n",
       "0    1     M14860    M                298.1                    308.6   \n",
       "1    2     L47181    L                298.2                    308.7   \n",
       "2    3     L47182    L                298.1                    308.5   \n",
       "3    4     L47183    L                298.2                    308.6   \n",
       "4    5     L47184    L                298.2                    308.7   \n",
       "5    6     M14865    M                298.1                    308.6   \n",
       "6    7     L47186    L                298.1                    308.6   \n",
       "7    8     L47187    L                298.1                    308.6   \n",
       "8    9     M14868    M                298.3                    308.7   \n",
       "9   10     M14869    M                298.5                    309.0   \n",
       "\n",
       "   Rotational speed [rpm]  Torque [Nm]  Tool wear [min]  Machine failure  TWF  \\\n",
       "0                    1551         42.8                0                0    0   \n",
       "1                    1408         46.3                3                0    0   \n",
       "2                    1498         49.4                5                0    0   \n",
       "3                    1433         39.5                7                0    0   \n",
       "4                    1408         40.0                9                0    0   \n",
       "5                    1425         41.9               11                0    0   \n",
       "6                    1558         42.4               14                0    0   \n",
       "7                    1527         40.2               16                0    0   \n",
       "8                    1667         28.6               18                0    0   \n",
       "9                    1741         28.0               21                0    0   \n",
       "\n",
       "   HDF  PWF  OSF  RNF  \n",
       "0    0    0    0    0  \n",
       "1    0    0    0    0  \n",
       "2    0    0    0    0  \n",
       "3    0    0    0    0  \n",
       "4    0    0    0    0  \n",
       "5    0    0    0    0  \n",
       "6    0    0    0    0  \n",
       "7    0    0    0    0  \n",
       "8    0    0    0    0  \n",
       "9    0    0    0    0  "
      ]
     },
     "execution_count": 4,
     "metadata": {},
     "output_type": "execute_result"
    }
   ],
   "source": [
    "df.head(10)"
   ]
  },
  {
   "cell_type": "code",
   "execution_count": 7,
   "id": "5f498608",
   "metadata": {},
   "outputs": [],
   "source": [
    "dsRep = ProfileReport(df)"
   ]
  },
  {
   "cell_type": "markdown",
   "id": "dba15e73",
   "metadata": {},
   "source": [
    "dsRep"
   ]
  },
  {
   "cell_type": "code",
   "execution_count": 8,
   "id": "5ea802ba",
   "metadata": {},
   "outputs": [
    {
     "data": {
      "application/vnd.jupyter.widget-view+json": {
       "model_id": "2bc9bc0a6d7941b5ba80bc5cdda9cafc",
       "version_major": 2,
       "version_minor": 0
      },
      "text/plain": [
       "Summarize dataset:   0%|          | 0/27 [00:00<?, ?it/s]"
      ]
     },
     "metadata": {},
     "output_type": "display_data"
    },
    {
     "data": {
      "application/vnd.jupyter.widget-view+json": {
       "model_id": "3d2c1ae71bcd407380b9671afcaabae5",
       "version_major": 2,
       "version_minor": 0
      },
      "text/plain": [
       "Generate report structure:   0%|          | 0/1 [00:00<?, ?it/s]"
      ]
     },
     "metadata": {},
     "output_type": "display_data"
    },
    {
     "data": {
      "application/vnd.jupyter.widget-view+json": {
       "model_id": "",
       "version_major": 2,
       "version_minor": 0
      },
      "text/plain": [
       "Render widgets:   0%|          | 0/1 [00:00<?, ?it/s]"
      ]
     },
     "metadata": {},
     "output_type": "display_data"
    },
    {
     "data": {
      "application/vnd.jupyter.widget-view+json": {
       "model_id": "84e36a7a4e3543ff93f9e74b86705622",
       "version_major": 2,
       "version_minor": 0
      },
      "text/plain": [
       "VBox(children=(Tab(children=(Tab(children=(GridBox(children=(VBox(children=(GridspecLayout(children=(HTML(valu…"
      ]
     },
     "metadata": {},
     "output_type": "display_data"
    }
   ],
   "source": [
    "dsRep.to_widgets()"
   ]
  },
  {
   "cell_type": "code",
   "execution_count": 8,
   "id": "1caab446",
   "metadata": {},
   "outputs": [],
   "source": [
    "x = df[['Process temperature [K]']]\n",
    "y = df[['Air temperature [K]']]"
   ]
  },
  {
   "cell_type": "code",
   "execution_count": 9,
   "id": "aba141c4",
   "metadata": {},
   "outputs": [],
   "source": [
    "from sklearn.linear_model import LinearRegression\n",
    "model = LinearRegression()"
   ]
  },
  {
   "cell_type": "code",
   "execution_count": 10,
   "id": "67763136",
   "metadata": {},
   "outputs": [
    {
     "data": {
      "text/plain": [
       "LinearRegression()"
      ]
     },
     "execution_count": 10,
     "metadata": {},
     "output_type": "execute_result"
    }
   ],
   "source": [
    "model.fit(x,y)"
   ]
  },
  {
   "cell_type": "code",
   "execution_count": 11,
   "id": "79dcbaa0",
   "metadata": {},
   "outputs": [
    {
     "data": {
      "text/plain": [
       "array([-66.14315172])"
      ]
     },
     "execution_count": 11,
     "metadata": {},
     "output_type": "execute_result"
    }
   ],
   "source": [
    "model.intercept_"
   ]
  },
  {
   "cell_type": "code",
   "execution_count": 12,
   "id": "2ed3bc86",
   "metadata": {},
   "outputs": [
    {
     "data": {
      "text/plain": [
       "array([[1.18110166]])"
      ]
     },
     "execution_count": 12,
     "metadata": {},
     "output_type": "execute_result"
    }
   ],
   "source": [
    "model.coef_"
   ]
  },
  {
   "cell_type": "code",
   "execution_count": 15,
   "id": "d4db9372",
   "metadata": {},
   "outputs": [
    {
     "data": {
      "text/plain": [
       "0.7675637525032574"
      ]
     },
     "execution_count": 15,
     "metadata": {},
     "output_type": "execute_result"
    }
   ],
   "source": [
    "model.score(x,y)"
   ]
  },
  {
   "cell_type": "code",
   "execution_count": 16,
   "id": "27c927ac",
   "metadata": {},
   "outputs": [],
   "source": [
    "file = 'aritemp.sav'\n",
    "pickle.dump(model, open(file, 'wb'))"
   ]
  },
  {
   "cell_type": "code",
   "execution_count": 17,
   "id": "211e69e6",
   "metadata": {},
   "outputs": [],
   "source": [
    "saved_model = pickle.load(open('aritemp.sav', 'rb'))"
   ]
  },
  {
   "cell_type": "code",
   "execution_count": 24,
   "id": "43d0e230",
   "metadata": {},
   "outputs": [],
   "source": [
    "list_= [i for i in range(1,500, 2)]"
   ]
  },
  {
   "cell_type": "code",
   "execution_count": 25,
   "id": "7999938e",
   "metadata": {},
   "outputs": [
    {
     "name": "stdout",
     "output_type": "stream",
     "text": [
      "[[-64.96205006]]\n",
      "[[-62.59984674]]\n",
      "[[-60.23764342]]\n",
      "[[-57.8754401]]\n",
      "[[-55.51323677]]\n",
      "[[-53.15103345]]\n",
      "[[-50.78883013]]\n",
      "[[-48.42662681]]\n",
      "[[-46.06442349]]\n",
      "[[-43.70222017]]\n",
      "[[-41.34001685]]\n",
      "[[-38.97781353]]\n",
      "[[-36.6156102]]\n",
      "[[-34.25340688]]\n",
      "[[-31.89120356]]\n",
      "[[-29.52900024]]\n",
      "[[-27.16679692]]\n",
      "[[-24.8045936]]\n",
      "[[-22.44239028]]\n",
      "[[-20.08018696]]\n",
      "[[-17.71798363]]\n",
      "[[-15.35578031]]\n",
      "[[-12.99357699]]\n",
      "[[-10.63137367]]\n",
      "[[-8.26917035]]\n",
      "[[-5.90696703]]\n",
      "[[-3.54476371]]\n",
      "[[-1.18256039]]\n",
      "[[1.17964294]]\n",
      "[[3.54184626]]\n",
      "[[5.90404958]]\n",
      "[[8.2662529]]\n",
      "[[10.62845622]]\n",
      "[[12.99065954]]\n",
      "[[15.35286286]]\n",
      "[[17.71506618]]\n",
      "[[20.07726951]]\n",
      "[[22.43947283]]\n",
      "[[24.80167615]]\n",
      "[[27.16387947]]\n",
      "[[29.52608279]]\n",
      "[[31.88828611]]\n",
      "[[34.25048943]]\n",
      "[[36.61269275]]\n",
      "[[38.97489608]]\n",
      "[[41.3370994]]\n",
      "[[43.69930272]]\n",
      "[[46.06150604]]\n",
      "[[48.42370936]]\n",
      "[[50.78591268]]\n",
      "[[53.148116]]\n",
      "[[55.51031932]]\n",
      "[[57.87252265]]\n",
      "[[60.23472597]]\n",
      "[[62.59692929]]\n",
      "[[64.95913261]]\n",
      "[[67.32133593]]\n",
      "[[69.68353925]]\n",
      "[[72.04574257]]\n",
      "[[74.40794589]]\n",
      "[[76.77014922]]\n",
      "[[79.13235254]]\n",
      "[[81.49455586]]\n",
      "[[83.85675918]]\n",
      "[[86.2189625]]\n",
      "[[88.58116582]]\n",
      "[[90.94336914]]\n",
      "[[93.30557246]]\n",
      "[[95.66777579]]\n",
      "[[98.02997911]]\n",
      "[[100.39218243]]\n",
      "[[102.75438575]]\n",
      "[[105.11658907]]\n",
      "[[107.47879239]]\n",
      "[[109.84099571]]\n",
      "[[112.20319903]]\n",
      "[[114.56540236]]\n",
      "[[116.92760568]]\n",
      "[[119.289809]]\n",
      "[[121.65201232]]\n",
      "[[124.01421564]]\n",
      "[[126.37641896]]\n",
      "[[128.73862228]]\n",
      "[[131.1008256]]\n",
      "[[133.46302893]]\n",
      "[[135.82523225]]\n",
      "[[138.18743557]]\n",
      "[[140.54963889]]\n",
      "[[142.91184221]]\n",
      "[[145.27404553]]\n",
      "[[147.63624885]]\n",
      "[[149.99845217]]\n",
      "[[152.3606555]]\n",
      "[[154.72285882]]\n",
      "[[157.08506214]]\n",
      "[[159.44726546]]\n",
      "[[161.80946878]]\n",
      "[[164.1716721]]\n",
      "[[166.53387542]]\n",
      "[[168.89607875]]\n",
      "[[171.25828207]]\n",
      "[[173.62048539]]\n",
      "[[175.98268871]]\n",
      "[[178.34489203]]\n",
      "[[180.70709535]]\n",
      "[[183.06929867]]\n",
      "[[185.43150199]]\n",
      "[[187.79370532]]\n",
      "[[190.15590864]]\n",
      "[[192.51811196]]\n",
      "[[194.88031528]]\n",
      "[[197.2425186]]\n",
      "[[199.60472192]]\n",
      "[[201.96692524]]\n",
      "[[204.32912856]]\n",
      "[[206.69133189]]\n",
      "[[209.05353521]]\n",
      "[[211.41573853]]\n",
      "[[213.77794185]]\n",
      "[[216.14014517]]\n",
      "[[218.50234849]]\n",
      "[[220.86455181]]\n",
      "[[223.22675513]]\n",
      "[[225.58895846]]\n",
      "[[227.95116178]]\n",
      "[[230.3133651]]\n",
      "[[232.67556842]]\n",
      "[[235.03777174]]\n",
      "[[237.39997506]]\n",
      "[[239.76217838]]\n",
      "[[242.1243817]]\n",
      "[[244.48658503]]\n",
      "[[246.84878835]]\n",
      "[[249.21099167]]\n",
      "[[251.57319499]]\n",
      "[[253.93539831]]\n",
      "[[256.29760163]]\n",
      "[[258.65980495]]\n",
      "[[261.02200827]]\n",
      "[[263.3842116]]\n",
      "[[265.74641492]]\n",
      "[[268.10861824]]\n",
      "[[270.47082156]]\n",
      "[[272.83302488]]\n",
      "[[275.1952282]]\n",
      "[[277.55743152]]\n",
      "[[279.91963484]]\n",
      "[[282.28183817]]\n",
      "[[284.64404149]]\n",
      "[[287.00624481]]\n",
      "[[289.36844813]]\n",
      "[[291.73065145]]\n",
      "[[294.09285477]]\n",
      "[[296.45505809]]\n",
      "[[298.81726141]]\n",
      "[[301.17946474]]\n",
      "[[303.54166806]]\n",
      "[[305.90387138]]\n",
      "[[308.2660747]]\n",
      "[[310.62827802]]\n",
      "[[312.99048134]]\n",
      "[[315.35268466]]\n",
      "[[317.71488798]]\n",
      "[[320.07709131]]\n",
      "[[322.43929463]]\n",
      "[[324.80149795]]\n",
      "[[327.16370127]]\n",
      "[[329.52590459]]\n",
      "[[331.88810791]]\n",
      "[[334.25031123]]\n",
      "[[336.61251455]]\n",
      "[[338.97471788]]\n",
      "[[341.3369212]]\n",
      "[[343.69912452]]\n",
      "[[346.06132784]]\n",
      "[[348.42353116]]\n",
      "[[350.78573448]]\n",
      "[[353.1479378]]\n",
      "[[355.51014112]]\n",
      "[[357.87234445]]\n",
      "[[360.23454777]]\n",
      "[[362.59675109]]\n",
      "[[364.95895441]]\n",
      "[[367.32115773]]\n",
      "[[369.68336105]]\n",
      "[[372.04556437]]\n",
      "[[374.40776769]]\n",
      "[[376.76997102]]\n",
      "[[379.13217434]]\n",
      "[[381.49437766]]\n",
      "[[383.85658098]]\n",
      "[[386.2187843]]\n",
      "[[388.58098762]]\n",
      "[[390.94319094]]\n",
      "[[393.30539426]]\n",
      "[[395.66759759]]\n",
      "[[398.02980091]]\n",
      "[[400.39200423]]\n",
      "[[402.75420755]]\n",
      "[[405.11641087]]\n",
      "[[407.47861419]]\n",
      "[[409.84081751]]\n",
      "[[412.20302083]]\n",
      "[[414.56522416]]\n",
      "[[416.92742748]]\n",
      "[[419.2896308]]\n",
      "[[421.65183412]]\n",
      "[[424.01403744]]\n",
      "[[426.37624076]]\n",
      "[[428.73844408]]\n",
      "[[431.1006474]]\n",
      "[[433.46285073]]\n",
      "[[435.82505405]]\n",
      "[[438.18725737]]\n",
      "[[440.54946069]]\n",
      "[[442.91166401]]\n",
      "[[445.27386733]]\n",
      "[[447.63607065]]\n",
      "[[449.99827397]]\n",
      "[[452.3604773]]\n",
      "[[454.72268062]]\n",
      "[[457.08488394]]\n",
      "[[459.44708726]]\n",
      "[[461.80929058]]\n",
      "[[464.1714939]]\n",
      "[[466.53369722]]\n",
      "[[468.89590054]]\n",
      "[[471.25810387]]\n",
      "[[473.62030719]]\n",
      "[[475.98251051]]\n",
      "[[478.34471383]]\n",
      "[[480.70691715]]\n",
      "[[483.06912047]]\n",
      "[[485.43132379]]\n",
      "[[487.79352711]]\n",
      "[[490.15573044]]\n",
      "[[492.51793376]]\n",
      "[[494.88013708]]\n",
      "[[497.2423404]]\n",
      "[[499.60454372]]\n",
      "[[501.96674704]]\n",
      "[[504.32895036]]\n",
      "[[506.69115368]]\n",
      "[[509.05335701]]\n",
      "[[511.41556033]]\n",
      "[[513.77776365]]\n",
      "[[516.13996697]]\n",
      "[[518.50217029]]\n",
      "[[520.86437361]]\n",
      "[[523.22657693]]\n"
     ]
    }
   ],
   "source": [
    "for i in list_:\n",
    "    print(model.predict([[i]]))"
   ]
  },
  {
   "cell_type": "code",
   "execution_count": 21,
   "id": "b836ae31",
   "metadata": {},
   "outputs": [
    {
     "data": {
      "text/plain": [
       "array([[298.34482075]])"
      ]
     },
     "execution_count": 21,
     "metadata": {},
     "output_type": "execute_result"
    }
   ],
   "source": [
    "saved_model.predict([[308.6]])"
   ]
  },
  {
   "cell_type": "code",
   "execution_count": 33,
   "id": "a64aa9de",
   "metadata": {},
   "outputs": [],
   "source": [
    "data = pd.DataFrame(np.array([[i for i in range (10)],\n",
    "                            [i for i in range (10,20)],\n",
    "                            [i for i in range(20,30)]]))"
   ]
  },
  {
   "cell_type": "code",
   "execution_count": 48,
   "id": "6c20666e",
   "metadata": {},
   "outputs": [],
   "source": [
    "data = pd.DataFrame(np.array([[2,4,5,6], [3,6,4,5],[8,16,5,6]]), columns=['a', 'b', 'c', 'd'])"
   ]
  },
  {
   "cell_type": "code",
   "execution_count": 49,
   "id": "3dce3b18",
   "metadata": {},
   "outputs": [
    {
     "data": {
      "text/plain": [
       "<AxesSubplot:xlabel='a'>"
      ]
     },
     "execution_count": 49,
     "metadata": {},
     "output_type": "execute_result"
    },
    {
     "data": {
      "image/png": "[encoded data removed]",
      "text/plain": [
       "<Figure size 432x288 with 1 Axes>"
      ]
     },
     "metadata": {
      "needs_background": "light"
     },
     "output_type": "display_data"
    }
   ],
   "source": [
    "data.plot(x = 'a', y = 'b', kind = 'line')"
   ]
  },
  {
   "cell_type": "code",
   "execution_count": 50,
   "id": "941be140",
   "metadata": {},
   "outputs": [],
   "source": [
    "from sklearn.linear_model import LinearRegression\n",
    "multimodel = LinearRegression()"
   ]
  },
  {
   "cell_type": "code",
   "execution_count": 51,
   "id": "f0221bcd",
   "metadata": {},
   "outputs": [],
   "source": [
    "xx = data[['a']]\n",
    "yy = data[['b']]"
   ]
  },
  {
   "cell_type": "code",
   "execution_count": 52,
   "id": "68b775ec",
   "metadata": {},
   "outputs": [
    {
     "data": {
      "text/plain": [
       "LinearRegression()"
      ]
     },
     "execution_count": 52,
     "metadata": {},
     "output_type": "execute_result"
    }
   ],
   "source": [
    "multimodel.fit(xx,yy)"
   ]
  },
  {
   "cell_type": "code",
   "execution_count": 56,
   "id": "0bcfe887",
   "metadata": {},
   "outputs": [
    {
     "data": {
      "text/plain": [
       "array([[92.]])"
      ]
     },
     "execution_count": 56,
     "metadata": {},
     "output_type": "execute_result"
    }
   ],
   "source": [
    "multimodel.predict([[46]])"
   ]
  },
  {
   "cell_type": "code",
   "execution_count": null,
   "id": "7dc78207",
   "metadata": {},
   "outputs": [],
   "source": []
  }
 ],
 "metadata": {
  "kernelspec": {
   "display_name": "Python 3",
   "language": "python",
   "name": "python3"
  },
  "language_info": {
   "codemirror_mode": {
    "name": "ipython",
    "version": 3
   },
   "file_extension": ".py",
   "mimetype": "text/x-python",
   "name": "python",
   "nbconvert_exporter": "python",
   "pygments_lexer": "ipython3",
   "version": "3.8.3"
  }
 },
 "nbformat": 4,
 "nbformat_minor": 5
}
