{
 "cells": [
  {
   "cell_type": "code",
   "execution_count": 21,
   "id": "3cb8dec5",
   "metadata": {},
   "outputs": [],
   "source": [
    "import db"
   ]
  },
  {
   "cell_type": "code",
   "execution_count": null,
   "id": "184783ba-560f-412d-bb56-e8b911b3f0cd",
   "metadata": {},
   "outputs": [],
   "source": [
    "data = [5004,309.4,1419,48.3,91,0,0,0,0,0,0]\n",
    "table = 'mldlrishipract12'\n",
    "column = {'Air_temperature': 'decimal PRIMARY KEY', 'Process_temperature ':'decimal', 'Rotational_speed ':'decimal','Torque':'decimal', 'Tool_wear':'decimal',' Machine_failure' :'decimal', 'TWF':'decimal', 'HDF':'decimal','PWF':'decimal', 'OSF' :'decimal', 'RNF' :'decimal'}\n",
    "zip_loc = \"E:\\secure-connect-rishi.zip\"\n",
    "client_id =  'ORkTvQTctPzoKWUeQdqaIURv' \n",
    "client_secret =  'SwbMx3mpJdn,0gYpy-v8J2ZBwEp3xXZlsB30gNZ8lwGeuc6EQCrhqU+bszz16RBYuygxzK-y1FkNROyS,ljSZhXxT1r6_6So20y.tyGMqv.Gc,E3xUl1-w2,l9fzhZo4'\n",
    "keyspace = 'ml'"
   ]
  },
  {
   "cell_type": "code",
   "execution_count": 3,
   "id": "69fc5d19",
   "metadata": {},
   "outputs": [
    {
     "data": {
      "text/plain": [
       "'E:\\\\secure-connect-rishi.zip'"
      ]
     },
     "execution_count": 3,
     "metadata": {},
     "output_type": "execute_result"
    }
   ],
   "source": [
    "zip_loc"
   ]
  },
  {
   "cell_type": "code",
   "execution_count": null,
   "id": "91d54990",
   "metadata": {},
   "outputs": [],
   "source": []
  },
  {
   "cell_type": "code",
   "execution_count": 4,
   "id": "a1c78c23",
   "metadata": {},
   "outputs": [],
   "source": [
    "database = db.cass_operation(data, table, column, zip_loc)"
   ]
  },
  {
   "cell_type": "code",
   "execution_count": 5,
   "id": "15328d2c",
   "metadata": {},
   "outputs": [
    {
     "name": "stdout",
     "output_type": "stream",
     "text": [
      "database connected\n",
      "database connected\n",
      "None\n",
      "database connected and table created\n",
      "None data inserted\n"
     ]
    }
   ],
   "source": [
    "database.cass_insert_data()"
   ]
  },
  {
   "cell_type": "code",
   "execution_count": null,
   "id": "c7b98670",
   "metadata": {},
   "outputs": [],
   "source": [
    "database.create_table()"
   ]
  },
  {
   "cell_type": "code",
   "execution_count": 12,
   "id": "998d02cb",
   "metadata": {},
   "outputs": [],
   "source": [
    "lst = [i for i in range(1,10)]"
   ]
  },
  {
   "cell_type": "code",
   "execution_count": 14,
   "id": "9734e3fb-77e6-4ee0-83a8-efa1a999e512",
   "metadata": {},
   "outputs": [],
   "source": [
    "lst.insert(0,5)"
   ]
  },
  {
   "cell_type": "code",
   "execution_count": 15,
   "id": "7da12f98-8a31-413e-84fa-4ff842e54b29",
   "metadata": {},
   "outputs": [
    {
     "data": {
      "text/plain": [
       "[5, 1, 2, 3, 4, 5, 6, 7, 8, 9]"
      ]
     },
     "execution_count": 15,
     "metadata": {},
     "output_type": "execute_result"
    }
   ],
   "source": [
    "lst"
   ]
  },
  {
   "cell_type": "code",
   "execution_count": 18,
   "id": "5b3a5334-8145-4a28-b494-bc233c9d5fdf",
   "metadata": {},
   "outputs": [
    {
     "data": {
      "text/plain": [
       "97.575"
      ]
     },
     "execution_count": 18,
     "metadata": {},
     "output_type": "execute_result"
    }
   ],
   "source": [
    "a = 97.575\n",
    "float(a)"
   ]
  },
  {
   "cell_type": "code",
   "execution_count": 19,
   "id": "d2313b39-6aea-41c1-aec4-16109595767a",
   "metadata": {},
   "outputs": [
    {
     "name": "stdout",
     "output_type": "stream",
     "text": [
      "97.58\n"
     ]
    }
   ],
   "source": [
    "print('%.2f'%a)"
   ]
  },
  {
   "cell_type": "code",
   "execution_count": 2,
   "id": "ed6c262c-5f1a-4894-a345-d79c74b16262",
   "metadata": {},
   "outputs": [],
   "source": [
    "from db import *"
   ]
  },
  {
   "cell_type": "code",
   "execution_count": 3,
   "id": "425dabba-b012-4dea-babb-1c1491f0e1b6",
   "metadata": {},
   "outputs": [
    {
     "data": {
      "text/plain": [
       "'ORkTvQTctPzoKWUeQdqaIURv'"
      ]
     },
     "execution_count": 3,
     "metadata": {},
     "output_type": "execute_result"
    }
   ],
   "source": [
    "client_id"
   ]
  },
  {
   "cell_type": "code",
   "execution_count": null,
   "id": "88458244-945d-4728-8cbb-8b6a1192de42",
   "metadata": {},
   "outputs": [],
   "source": []
  }
 ],
 "metadata": {
  "kernelspec": {
   "display_name": "Python 3 (ipykernel)",
   "language": "python",
   "name": "python3"
  },
  "language_info": {
   "codemirror_mode": {
    "name": "ipython",
    "version": 3
   },
   "file_extension": ".py",
   "mimetype": "text/x-python",
   "name": "python",
   "nbconvert_exporter": "python",
   "pygments_lexer": "ipython3",
   "version": "3.8.11"
  }
 },
 "nbformat": 4,
 "nbformat_minor": 5
}
